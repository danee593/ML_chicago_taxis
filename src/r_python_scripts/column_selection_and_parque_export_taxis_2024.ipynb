{
 "cells": [
  {
   "cell_type": "code",
   "execution_count": 15,
   "metadata": {},
   "outputs": [],
   "source": [
    "import pandas as pd"
   ]
  },
  {
   "cell_type": "code",
   "execution_count": 16,
   "metadata": {},
   "outputs": [],
   "source": [
    "df = pd.read_csv(\"data_sources/taxis_2024/Taxi_Trips__2024-__20240407.csv\")"
   ]
  },
  {
   "cell_type": "code",
   "execution_count": 19,
   "metadata": {},
   "outputs": [
    {
     "data": {
      "text/html": [
       "<div>\n",
       "<style scoped>\n",
       "    .dataframe tbody tr th:only-of-type {\n",
       "        vertical-align: middle;\n",
       "    }\n",
       "\n",
       "    .dataframe tbody tr th {\n",
       "        vertical-align: top;\n",
       "    }\n",
       "\n",
       "    .dataframe thead th {\n",
       "        text-align: right;\n",
       "    }\n",
       "</style>\n",
       "<table border=\"1\" class=\"dataframe\">\n",
       "  <thead>\n",
       "    <tr style=\"text-align: right;\">\n",
       "      <th></th>\n",
       "      <th>Trip ID</th>\n",
       "      <th>Taxi ID</th>\n",
       "      <th>Trip Start Timestamp</th>\n",
       "      <th>Trip End Timestamp</th>\n",
       "      <th>Trip Seconds</th>\n",
       "      <th>Trip Miles</th>\n",
       "      <th>Pickup Census Tract</th>\n",
       "      <th>Dropoff Census Tract</th>\n",
       "      <th>Pickup Community Area</th>\n",
       "      <th>Dropoff Community Area</th>\n",
       "      <th>...</th>\n",
       "      <th>Extras</th>\n",
       "      <th>Trip Total</th>\n",
       "      <th>Payment Type</th>\n",
       "      <th>Company</th>\n",
       "      <th>Pickup Centroid Latitude</th>\n",
       "      <th>Pickup Centroid Longitude</th>\n",
       "      <th>Pickup Centroid Location</th>\n",
       "      <th>Dropoff Centroid Latitude</th>\n",
       "      <th>Dropoff Centroid Longitude</th>\n",
       "      <th>Dropoff Centroid  Location</th>\n",
       "    </tr>\n",
       "  </thead>\n",
       "  <tbody>\n",
       "    <tr>\n",
       "      <th>0</th>\n",
       "      <td>01a0b77b722a0b91f45cb4fc90b3e64f76fd0681</td>\n",
       "      <td>4f1e94982e6851725add382f7981d64006ae7c38f3664f...</td>\n",
       "      <td>03/01/2024 12:00:00 AM</td>\n",
       "      <td>03/01/2024 12:00:00 AM</td>\n",
       "      <td>711.0</td>\n",
       "      <td>5.84</td>\n",
       "      <td>NaN</td>\n",
       "      <td>NaN</td>\n",
       "      <td>56.0</td>\n",
       "      <td>NaN</td>\n",
       "      <td>...</td>\n",
       "      <td>5.0</td>\n",
       "      <td>26.7</td>\n",
       "      <td>Credit Card</td>\n",
       "      <td>City Service</td>\n",
       "      <td>41.792592</td>\n",
       "      <td>-87.769615</td>\n",
       "      <td>POINT (-87.7696154528 41.7925923603)</td>\n",
       "      <td>NaN</td>\n",
       "      <td>NaN</td>\n",
       "      <td>NaN</td>\n",
       "    </tr>\n",
       "  </tbody>\n",
       "</table>\n",
       "<p>1 rows × 23 columns</p>\n",
       "</div>"
      ],
      "text/plain": [
       "                                    Trip ID  \\\n",
       "0  01a0b77b722a0b91f45cb4fc90b3e64f76fd0681   \n",
       "\n",
       "                                             Taxi ID    Trip Start Timestamp  \\\n",
       "0  4f1e94982e6851725add382f7981d64006ae7c38f3664f...  03/01/2024 12:00:00 AM   \n",
       "\n",
       "       Trip End Timestamp  Trip Seconds  Trip Miles  Pickup Census Tract  \\\n",
       "0  03/01/2024 12:00:00 AM         711.0        5.84                  NaN   \n",
       "\n",
       "   Dropoff Census Tract  Pickup Community Area  Dropoff Community Area  ...  \\\n",
       "0                   NaN                   56.0                     NaN  ...   \n",
       "\n",
       "   Extras  Trip Total  Payment Type       Company  Pickup Centroid Latitude  \\\n",
       "0     5.0        26.7   Credit Card  City Service                 41.792592   \n",
       "\n",
       "  Pickup Centroid Longitude              Pickup Centroid Location  \\\n",
       "0                -87.769615  POINT (-87.7696154528 41.7925923603)   \n",
       "\n",
       "   Dropoff Centroid Latitude  Dropoff Centroid Longitude  \\\n",
       "0                        NaN                         NaN   \n",
       "\n",
       "  Dropoff Centroid  Location  \n",
       "0                        NaN  \n",
       "\n",
       "[1 rows x 23 columns]"
      ]
     },
     "execution_count": 19,
     "metadata": {},
     "output_type": "execute_result"
    }
   ],
   "source": [
    "df.head(1)"
   ]
  },
  {
   "cell_type": "code",
   "execution_count": 50,
   "metadata": {},
   "outputs": [],
   "source": [
    "df_trimmed = df.iloc[:,1:16:].drop(columns=[\"Taxi ID\",\"Pickup Census Tract\",\"Dropoff Census Tract\"])"
   ]
  },
  {
   "cell_type": "code",
   "execution_count": 51,
   "metadata": {},
   "outputs": [
    {
     "data": {
      "text/plain": [
       "Index(['Trip Start Timestamp', 'Trip End Timestamp', 'Trip Seconds',\n",
       "       'Trip Miles', 'Pickup Community Area', 'Dropoff Community Area', 'Fare',\n",
       "       'Tips', 'Tolls', 'Extras', 'Trip Total', 'Payment Type'],\n",
       "      dtype='object')"
      ]
     },
     "execution_count": 51,
     "metadata": {},
     "output_type": "execute_result"
    }
   ],
   "source": [
    "df_trimmed.columns"
   ]
  },
  {
   "cell_type": "code",
   "execution_count": 52,
   "metadata": {},
   "outputs": [],
   "source": [
    "df_trimmed[\"Trip Start Timestamp\"] = pd.to_datetime(df_trimmed[\"Trip Start Timestamp\"], format=\"%m/%d/%Y %H:%M:%S %p\")\n",
    "df_trimmed[\"Trip End Timestamp\"] = pd.to_datetime(df_trimmed[\"Trip Start Timestamp\"], format=\"%m/%d/%Y %H:%M:%S %p\")\n",
    "df_trimmed['Pickup Community Area'] = df_trimmed['Pickup Community Area'].apply(pd.to_numeric).astype('Int64')\n",
    "df_trimmed['Dropoff Community Area'] = df_trimmed['Dropoff Community Area'].apply(pd.to_numeric).astype('Int64')\n",
    "df_trimmed.rename(columns=lambda x: x.replace(' ', '_'), inplace=True)"
   ]
  },
  {
   "cell_type": "code",
   "execution_count": 54,
   "metadata": {},
   "outputs": [],
   "source": [
    "df_trimmed.to_parquet('data_sources/taxis_2024/taxis_2024.parquet', index=False)"
   ]
  }
 ],
 "metadata": {
  "kernelspec": {
   "display_name": "Python 3",
   "language": "python",
   "name": "python3"
  },
  "language_info": {
   "codemirror_mode": {
    "name": "ipython",
    "version": 3
   },
   "file_extension": ".py",
   "mimetype": "text/x-python",
   "name": "python",
   "nbconvert_exporter": "python",
   "pygments_lexer": "ipython3",
   "version": "3.11.9"
  }
 },
 "nbformat": 4,
 "nbformat_minor": 2
}
